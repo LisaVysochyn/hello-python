{
 "cells": [
  {
   "cell_type": "markdown",
   "metadata": {
    "toc": true
   },
   "source": [
    "<h1>Table of Contents<span class=\"tocSkip\"></span></h1>\n",
    "<div class=\"toc\"><ul class=\"toc-item\"><li><span><a href=\"#Question\" data-toc-modified-id=\"Question-1\"><span class=\"toc-item-num\">1&nbsp;&nbsp;</span>Question</a></span><ul class=\"toc-item\"><li><span><a href=\"#Answer\" data-toc-modified-id=\"Answer-1.1\"><span class=\"toc-item-num\">1.1&nbsp;&nbsp;</span>Answer</a></span></li></ul></li><li><span><a href=\"#Question\" data-toc-modified-id=\"Question-2\"><span class=\"toc-item-num\">2&nbsp;&nbsp;</span>Question</a></span><ul class=\"toc-item\"><li><span><a href=\"#Answer\" data-toc-modified-id=\"Answer-2.1\"><span class=\"toc-item-num\">2.1&nbsp;&nbsp;</span>Answer</a></span></li></ul></li><li><span><a href=\"#Question\" data-toc-modified-id=\"Question-3\"><span class=\"toc-item-num\">3&nbsp;&nbsp;</span>Question</a></span><ul class=\"toc-item\"><li><span><a href=\"#Answer\" data-toc-modified-id=\"Answer-3.1\"><span class=\"toc-item-num\">3.1&nbsp;&nbsp;</span>Answer</a></span></li></ul></li><li><span><a href=\"#Question\" data-toc-modified-id=\"Question-4\"><span class=\"toc-item-num\">4&nbsp;&nbsp;</span>Question</a></span><ul class=\"toc-item\"><li><span><a href=\"#Answer\" data-toc-modified-id=\"Answer-4.1\"><span class=\"toc-item-num\">4.1&nbsp;&nbsp;</span>Answer</a></span></li></ul></li><li><span><a href=\"#Question\" data-toc-modified-id=\"Question-5\"><span class=\"toc-item-num\">5&nbsp;&nbsp;</span>Question</a></span><ul class=\"toc-item\"><li><span><a href=\"#Answer\" data-toc-modified-id=\"Answer-5.1\"><span class=\"toc-item-num\">5.1&nbsp;&nbsp;</span>Answer</a></span></li></ul></li><li><span><a href=\"#Question\" data-toc-modified-id=\"Question-6\"><span class=\"toc-item-num\">6&nbsp;&nbsp;</span>Question</a></span><ul class=\"toc-item\"><li><span><a href=\"#Answer\" data-toc-modified-id=\"Answer-6.1\"><span class=\"toc-item-num\">6.1&nbsp;&nbsp;</span>Answer</a></span></li></ul></li><li><span><a href=\"#Question\" data-toc-modified-id=\"Question-7\"><span class=\"toc-item-num\">7&nbsp;&nbsp;</span>Question</a></span><ul class=\"toc-item\"><li><span><a href=\"#Answer\" data-toc-modified-id=\"Answer-7.1\"><span class=\"toc-item-num\">7.1&nbsp;&nbsp;</span>Answer</a></span></li></ul></li><li><span><a href=\"#Question\" data-toc-modified-id=\"Question-8\"><span class=\"toc-item-num\">8&nbsp;&nbsp;</span>Question</a></span><ul class=\"toc-item\"><li><span><a href=\"#Answer\" data-toc-modified-id=\"Answer-8.1\"><span class=\"toc-item-num\">8.1&nbsp;&nbsp;</span>Answer</a></span></li></ul></li><li><span><a href=\"#Question\" data-toc-modified-id=\"Question-9\"><span class=\"toc-item-num\">9&nbsp;&nbsp;</span>Question</a></span><ul class=\"toc-item\"><li><span><a href=\"#Answer\" data-toc-modified-id=\"Answer-9.1\"><span class=\"toc-item-num\">9.1&nbsp;&nbsp;</span>Answer</a></span></li></ul></li><li><span><a href=\"#Question\" data-toc-modified-id=\"Question-10\"><span class=\"toc-item-num\">10&nbsp;&nbsp;</span>Question</a></span><ul class=\"toc-item\"><li><span><a href=\"#Answer\" data-toc-modified-id=\"Answer-10.1\"><span class=\"toc-item-num\">10.1&nbsp;&nbsp;</span>Answer</a></span></li></ul></li><li><span><a href=\"#Question\" data-toc-modified-id=\"Question-11\"><span class=\"toc-item-num\">11&nbsp;&nbsp;</span>Question</a></span><ul class=\"toc-item\"><li><span><a href=\"#Answer\" data-toc-modified-id=\"Answer-11.1\"><span class=\"toc-item-num\">11.1&nbsp;&nbsp;</span>Answer</a></span></li></ul></li><li><span><a href=\"#Question\" data-toc-modified-id=\"Question-12\"><span class=\"toc-item-num\">12&nbsp;&nbsp;</span>Question</a></span><ul class=\"toc-item\"><li><span><a href=\"#Answer\" data-toc-modified-id=\"Answer-12.1\"><span class=\"toc-item-num\">12.1&nbsp;&nbsp;</span>Answer</a></span></li></ul></li><li><span><a href=\"#Question\" data-toc-modified-id=\"Question-13\"><span class=\"toc-item-num\">13&nbsp;&nbsp;</span>Question</a></span><ul class=\"toc-item\"><li><span><a href=\"#Answer\" data-toc-modified-id=\"Answer-13.1\"><span class=\"toc-item-num\">13.1&nbsp;&nbsp;</span>Answer</a></span></li></ul></li><li><span><a href=\"#Question\" data-toc-modified-id=\"Question-14\"><span class=\"toc-item-num\">14&nbsp;&nbsp;</span>Question</a></span><ul class=\"toc-item\"><li><span><a href=\"#Answer\" data-toc-modified-id=\"Answer-14.1\"><span class=\"toc-item-num\">14.1&nbsp;&nbsp;</span>Answer</a></span></li></ul></li><li><span><a href=\"#Question\" data-toc-modified-id=\"Question-15\"><span class=\"toc-item-num\">15&nbsp;&nbsp;</span>Question</a></span><ul class=\"toc-item\"><li><span><a href=\"#Answer\" data-toc-modified-id=\"Answer-15.1\"><span class=\"toc-item-num\">15.1&nbsp;&nbsp;</span>Answer</a></span></li></ul></li></ul></div>"
   ]
  },
  {
   "cell_type": "markdown",
   "metadata": {},
   "source": [
    "# Python Test 100\n"
   ]
  },
  {
   "cell_type": "markdown",
   "metadata": {},
   "source": [
    "# -------------------- Question 0 --------------------\n",
    "Install Anaconda Python (version 3.7 or later)"
   ]
  },
  {
   "cell_type": "code",
   "execution_count": 1,
   "metadata": {
    "ExecuteTime": {
     "end_time": "2021-09-01T13:14:22.261515Z",
     "start_time": "2021-09-01T13:14:22.257701Z"
    }
   },
   "outputs": [
    {
     "name": "stdout",
     "output_type": "stream",
     "text": [
      "sys.version_info(major=3, minor=9, micro=7, releaselevel='final', serial=0)\n",
      "version 3.9.7\n"
     ]
    }
   ],
   "source": [
    "# Installation - anaconda python:\n",
    "#     - https://www.anaconda.com/products/individual\n",
    "# After installation you can always add modules.\n",
    "# Modules can be added from different channels.\n",
    "#   conda info\n",
    "#   conda config --add channels anaconda\n",
    "#   conda config --add channels conda-forge\n",
    "# You can do periodic updates using these commands:\n",
    "#   conda update conda\n",
    "#   conda update anaconda\n",
    "# -------------------------------------------------------\n",
    "import sys\n",
    "vv = sys.version_info\n",
    "print(vv)\n",
    "print('version ' + '.'.join([str(x) for x in vv[0:3]]))"
   ]
  },
  {
   "cell_type": "markdown",
   "metadata": {},
   "source": [
    "##  Question"
   ]
  },
  {
   "cell_type": "markdown",
   "metadata": {},
   "source": [
    "Write short scripts to print the results of the following expressions. In most places, changing integers to floating point produces a notably different result. For example $(\\frac{296}{167})^2$ and $(\\frac{296.0}{167.0})^2$. Use long as well as complex types to see the differences.\n",
    "\n",
    "- 355/113 * ( 1 - 0.0003/3522 )\n",
    "\n",
    "- 22/17 + 37/47 + 88/83\n",
    "\n",
    "- (553/312)**2"
   ]
  },
  {
   "cell_type": "code",
   "execution_count": 5,
   "metadata": {
    "ExecuteTime": {
     "end_time": "2021-09-06T02:12:58.090466Z",
     "start_time": "2021-09-06T02:12:58.068628Z"
    }
   },
   "outputs": [
    {
     "name": "stdout",
     "output_type": "stream",
     "text": [
      "3.14159265275663\n",
      "3.14159265275663\n",
      "3.1415926534674368\n",
      "3.1415926534674368\n",
      "3.141529010519395\n",
      "3.141529010519395\n"
     ]
    }
   ],
   "source": [
    "### Answer\n",
    "print(355/113*(1-0.0003/3522))\n",
    "print(355.0/113.0*(1.0-0.0003/3522.0))\n",
    "print(22/17+37/47+88/83)\n",
    "print(22.0/17.0+37.0/47.0+88.0/83.0)\n",
    "print((553/312)**2)\n",
    "print((553.0/312.0)**2.0)"
   ]
  },
  {
   "cell_type": "markdown",
   "metadata": {},
   "source": [
    "##  Question"
   ]
  },
  {
   "cell_type": "markdown",
   "metadata": {},
   "source": [
    "Write a print statement to print the mixed fraction 3 5/8 as a floating point number and as an integer."
   ]
  },
  {
   "cell_type": "code",
   "execution_count": 7,
   "metadata": {},
   "outputs": [
    {
     "name": "stdout",
     "output_type": "stream",
     "text": [
      "0\n",
      "1.0\n",
      "0.625\n"
     ]
    }
   ],
   "source": [
    "### Answer\n",
    "print(int(5/8))\n",
    "print(round(5/8,0))\n",
    "print(5/8)"
   ]
  },
  {
   "cell_type": "markdown",
   "metadata": {},
   "source": [
    "##  Question"
   ]
  },
  {
   "cell_type": "markdown",
   "metadata": {
    "ExecuteTime": {
     "end_time": "2021-09-01T13:43:38.728092Z",
     "start_time": "2021-09-01T13:43:38.724545Z"
    }
   },
   "source": [
    "**Convert Between °C and °F.** Convert temperatures from one system to another.\n",
    "- Create a print statement to convert 18.5° C to °F. \n",
    "- Create a print statement to convert -4° F to °C."
   ]
  },
  {
   "cell_type": "code",
   "execution_count": 11,
   "metadata": {},
   "outputs": [
    {
     "name": "stdout",
     "output_type": "stream",
     "text": [
      "65.30000000000001\n",
      "-20.0\n"
     ]
    }
   ],
   "source": [
    "### Answer\n",
    "print(9/5*18.5+32)\n",
    "print(5/9*(-4-32))"
   ]
  },
  {
   "cell_type": "markdown",
   "metadata": {},
   "source": [
    "##  Question"
   ]
  },
  {
   "cell_type": "markdown",
   "metadata": {},
   "source": [
    "Write a Python program which accepts the radius of a circle from the user and compute the area"
   ]
  },
  {
   "cell_type": "code",
   "execution_count": 13,
   "metadata": {
    "ExecuteTime": {
     "end_time": "2021-09-06T02:15:28.239932Z",
     "start_time": "2021-09-06T02:15:28.237898Z"
    }
   },
   "outputs": [
    {
     "name": "stdout",
     "output_type": "stream",
     "text": [
      "1\n",
      "3.141592653589793\n"
     ]
    }
   ],
   "source": [
    "### Answer\n",
    "from math import pi\n",
    "\n",
    "radius = float(input())\n",
    "area = pi*radius**2\n",
    "print(area)"
   ]
  },
  {
   "cell_type": "markdown",
   "metadata": {},
   "source": [
    "##  Question"
   ]
  },
  {
   "cell_type": "markdown",
   "metadata": {},
   "source": [
    "Write a Python program which accepts the user's first and last name and print them in reverse order with a space between them."
   ]
  },
  {
   "cell_type": "code",
   "execution_count": 16,
   "metadata": {
    "ExecuteTime": {
     "end_time": "2021-09-06T02:15:28.239932Z",
     "start_time": "2021-09-06T02:15:28.237898Z"
    }
   },
   "outputs": [
    {
     "name": "stdout",
     "output_type": "stream",
     "text": [
      "Halyna\n",
      "Zinkiv\n",
      "Halyna Zinkiv\n",
      "vikniZ anylaH\n"
     ]
    }
   ],
   "source": [
    "### Answer\n",
    "first_name = str(input())\n",
    "last_name = str(input())\n",
    "user_name = first_name + ' ' + last_name\n",
    "print(user_name)\n",
    "print(user_name[::-1])"
   ]
  },
  {
   "cell_type": "markdown",
   "metadata": {},
   "source": [
    "##  Question"
   ]
  },
  {
   "cell_type": "markdown",
   "metadata": {
    "ExecuteTime": {
     "end_time": "2021-09-01T13:56:51.864690Z",
     "start_time": "2021-09-01T13:56:51.861099Z"
    }
   },
   "source": [
    "Write a Python program that accepts an integer (n) and computes the value of n+nn+nnn"
   ]
  },
  {
   "cell_type": "code",
   "execution_count": 22,
   "metadata": {
    "ExecuteTime": {
     "end_time": "2021-09-06T02:15:28.239932Z",
     "start_time": "2021-09-06T02:15:28.237898Z"
    }
   },
   "outputs": [
    {
     "name": "stdout",
     "output_type": "stream",
     "text": [
      "0\n",
      "0\n"
     ]
    }
   ],
   "source": [
    "### Answer\n",
    "n = int(input())\n",
    "if n>=0:\n",
    "    n = str(n)\n",
    "    nn = n*2\n",
    "    nn = int(nn)\n",
    "    nnn = n*3\n",
    "    nnn = int(nnn)\n",
    "    n = int(n)\n",
    "    suma = n+nn+nnn\n",
    "else:\n",
    "    n = str((-1)*n)\n",
    "    nn = n*2\n",
    "    nn = int(nn)\n",
    "    nnn = n*3\n",
    "    nnn = int(nnn)\n",
    "    n = int(n)\n",
    "    suma = -n-nn-nnn\n",
    "    \n",
    "print(suma)"
   ]
  },
  {
   "cell_type": "markdown",
   "metadata": {},
   "source": [
    "##  Question"
   ]
  },
  {
   "cell_type": "markdown",
   "metadata": {
    "ExecuteTime": {
     "end_time": "2021-09-06T02:21:06.567704Z",
     "start_time": "2021-09-06T02:21:06.549408Z"
    }
   },
   "source": [
    "A lot of cell phones have tip calculators. Write one. Ask the user for the price of the meal and the percent tip they want to leave. Then print both the tip amount and the total bill with the tip included."
   ]
  },
  {
   "cell_type": "code",
   "execution_count": null,
   "metadata": {
    "ExecuteTime": {
     "end_time": "2021-09-06T02:15:28.239932Z",
     "start_time": "2021-09-06T02:15:28.237898Z"
    }
   },
   "outputs": [],
   "source": [
    "### Answer\n",
    "price_of_the_meal = float(input())\n",
    "percent = float(input())\n",
    "tip_amount = price_of_meal*percent/100\n",
    "total_bill = tip_amount+price_of_meal\n",
    "print(tip_amount)\n",
    "print(total_bill)"
   ]
  },
  {
   "cell_type": "markdown",
   "metadata": {},
   "source": [
    "##  Question"
   ]
  },
  {
   "cell_type": "markdown",
   "metadata": {},
   "source": [
    "Write a program that asks the user to enter three numbers: the day of birth, the month of birth and the year of birth (use three separate input statements). Print out the total number of days from birth."
   ]
  },
  {
   "cell_type": "code",
   "execution_count": null,
   "metadata": {
    "ExecuteTime": {
     "end_time": "2021-09-06T02:15:28.239932Z",
     "start_time": "2021-09-06T02:15:28.237898Z"
    }
   },
   "outputs": [],
   "source": [
    "### Answer\n",
    "the_day = int(input())\n",
    "the_month = int(input())\n",
    "the_year = int(input())\n",
    "total_number_of_days = the_day+the_month*30+the_year*365\n",
    "print(total_number_of_days)"
   ]
  },
  {
   "cell_type": "markdown",
   "metadata": {},
   "source": [
    "##  Question"
   ]
  },
  {
   "cell_type": "markdown",
   "metadata": {},
   "source": [
    "Write a program that asks the user to enter an angle between -180° and 180°. Using an expression with the modulo operator, convert the angle to its equivalent between 0° and 360°."
   ]
  },
  {
   "cell_type": "markdown",
   "metadata": {
    "ExecuteTime": {
     "end_time": "2021-09-06T02:15:28.239932Z",
     "start_time": "2021-09-06T02:15:28.237898Z"
    }
   },
   "source": [
    "### Answer"
   ]
  },
  {
   "cell_type": "markdown",
   "metadata": {},
   "source": [
    "##  Question"
   ]
  },
  {
   "cell_type": "markdown",
   "metadata": {},
   "source": [
    "Write a program that generates a random number, $x$, between 1 and 50, a random number y between 2 and 5, and computes $x^y$."
   ]
  },
  {
   "cell_type": "code",
   "execution_count": 25,
   "metadata": {
    "ExecuteTime": {
     "end_time": "2021-09-06T02:15:28.239932Z",
     "start_time": "2021-09-06T02:15:28.237898Z"
    }
   },
   "outputs": [
    {
     "name": "stdout",
     "output_type": "stream",
     "text": [
      "613428.704611165\n"
     ]
    }
   ],
   "source": [
    "### Answer\n",
    "from random import *\n",
    "x = uniform(1,50)\n",
    "y = uniform(2,5)\n",
    "print(x**y)"
   ]
  },
  {
   "cell_type": "markdown",
   "metadata": {},
   "source": [
    "##  Question"
   ]
  },
  {
   "cell_type": "markdown",
   "metadata": {},
   "source": [
    "Write a program that generates a random decimal number between 1 and 10 with two decimal places of accuracy."
   ]
  },
  {
   "cell_type": "code",
   "execution_count": 26,
   "metadata": {
    "ExecuteTime": {
     "end_time": "2021-09-06T02:15:28.239932Z",
     "start_time": "2021-09-06T02:15:28.237898Z"
    }
   },
   "outputs": [
    {
     "name": "stdout",
     "output_type": "stream",
     "text": [
      "9.97\n"
     ]
    }
   ],
   "source": [
    "### Answer\n",
    "from random import *\n",
    "number = round(uniform(1,10),2)\n",
    "print(x)"
   ]
  },
  {
   "cell_type": "markdown",
   "metadata": {},
   "source": [
    "##  Question"
   ]
  },
  {
   "cell_type": "markdown",
   "metadata": {},
   "source": [
    "Write a program that asks the user to enter a weight in kilograms. The program should convert it to pounds, printing the answer rounded to the nearest tenth of a pound."
   ]
  },
  {
   "cell_type": "code",
   "execution_count": 27,
   "metadata": {
    "ExecuteTime": {
     "end_time": "2021-09-06T02:15:28.239932Z",
     "start_time": "2021-09-06T02:15:28.237898Z"
    }
   },
   "outputs": [
    {
     "name": "stdout",
     "output_type": "stream",
     "text": [
      "2\n",
      "4.4\n"
     ]
    }
   ],
   "source": [
    "### Answer\n",
    "weight_in_kilograms = float(input())\n",
    "weight_in_pounds = round((weight_in_kilograms*2.2046),1)\n",
    "print(weight_in_pounds)"
   ]
  },
  {
   "cell_type": "markdown",
   "metadata": {},
   "source": [
    "##  Question"
   ]
  },
  {
   "cell_type": "markdown",
   "metadata": {
    "ExecuteTime": {
     "end_time": "2021-09-06T02:46:05.570004Z",
     "start_time": "2021-09-06T02:46:05.564116Z"
    }
   },
   "source": [
    "Write a program that asks the user to enter an angle in degrees and prints out the sine of that angle."
   ]
  },
  {
   "cell_type": "code",
   "execution_count": 29,
   "metadata": {
    "ExecuteTime": {
     "end_time": "2021-09-06T02:15:28.239932Z",
     "start_time": "2021-09-06T02:15:28.237898Z"
    }
   },
   "outputs": [
    {
     "name": "stdout",
     "output_type": "stream",
     "text": [
      "0\n",
      "0.0\n"
     ]
    }
   ],
   "source": [
    "### Answer\n",
    "from math import *\n",
    "angle_in_degrees = float(input())\n",
    "angle_in_radians = radians(angle_in_degrees)\n",
    "sine = sin(angle_in_radians)\n",
    "print(sine)"
   ]
  },
  {
   "cell_type": "markdown",
   "metadata": {},
   "source": [
    "##  Question"
   ]
  },
  {
   "cell_type": "markdown",
   "metadata": {},
   "source": [
    "Write a program that asks the user to enter a power. Then find the last two digits of 2 raised to that power."
   ]
  },
  {
   "cell_type": "code",
   "execution_count": null,
   "metadata": {
    "ExecuteTime": {
     "end_time": "2021-09-06T02:15:28.239932Z",
     "start_time": "2021-09-06T02:15:28.237898Z"
    }
   },
   "outputs": [],
   "source": [
    "### Answer\n",
    "x = 2\n",
    "power = int(input())\n",
    "result = 2**power%100\n",
    "print(result)"
   ]
  },
  {
   "cell_type": "markdown",
   "metadata": {},
   "source": [
    "##  Question"
   ]
  },
  {
   "cell_type": "markdown",
   "metadata": {},
   "source": [
    "Write a program that asks the user to enter a weight in kilograms. The program should convert it to pounds, printing the answer rounded to the nearest tenth of a pound."
   ]
  },
  {
   "cell_type": "markdown",
   "metadata": {
    "ExecuteTime": {
     "end_time": "2021-09-06T02:15:28.239932Z",
     "start_time": "2021-09-06T02:15:28.237898Z"
    }
   },
   "source": [
    "### Answer"
   ]
  }
 ],
 "metadata": {
  "kernelspec": {
   "display_name": "Python 3 (ipykernel)",
   "language": "python",
   "name": "python3"
  },
  "language_info": {
   "codemirror_mode": {
    "name": "ipython",
    "version": 3
   },
   "file_extension": ".py",
   "mimetype": "text/x-python",
   "name": "python",
   "nbconvert_exporter": "python",
   "pygments_lexer": "ipython3",
   "version": "3.9.7"
  },
  "toc": {
   "base_numbering": 1,
   "nav_menu": {},
   "number_sections": true,
   "sideBar": true,
   "skip_h1_title": true,
   "title_cell": "Table of Contents",
   "title_sidebar": "Contents",
   "toc_cell": true,
   "toc_position": {},
   "toc_section_display": true,
   "toc_window_display": true
  },
  "varInspector": {
   "cols": {
    "lenName": 16,
    "lenType": 16,
    "lenVar": 40
   },
   "kernels_config": {
    "python": {
     "delete_cmd_postfix": "",
     "delete_cmd_prefix": "del ",
     "library": "var_list.py",
     "varRefreshCmd": "print(var_dic_list())"
    },
    "r": {
     "delete_cmd_postfix": ") ",
     "delete_cmd_prefix": "rm(",
     "library": "var_list.r",
     "varRefreshCmd": "cat(var_dic_list()) "
    }
   },
   "types_to_exclude": [
    "module",
    "function",
    "builtin_function_or_method",
    "instance",
    "_Feature"
   ],
   "window_display": false
  }
 },
 "nbformat": 4,
 "nbformat_minor": 4
}
